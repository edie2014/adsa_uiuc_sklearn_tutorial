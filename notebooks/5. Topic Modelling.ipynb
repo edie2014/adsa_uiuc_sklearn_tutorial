{
 "cells": [
  {
   "cell_type": "code",
   "execution_count": 1,
   "metadata": {
    "collapsed": true
   },
   "outputs": [],
   "source": [
    "from sklearn.datasets import fetch_20newsgroups"
   ]
  },
  {
   "cell_type": "code",
   "execution_count": 2,
   "metadata": {
    "collapsed": true
   },
   "outputs": [],
   "source": [
    "%matplotlib inline\n",
    "import matplotlib.pyplot as plt\n",
    "import numpy as np"
   ]
  },
  {
   "cell_type": "code",
   "execution_count": 3,
   "metadata": {
    "collapsed": true
   },
   "outputs": [],
   "source": [
    "from sklearn.metrics import accuracy_score, f1_score"
   ]
  },
  {
   "cell_type": "code",
   "execution_count": 4,
   "metadata": {
    "collapsed": false
   },
   "outputs": [],
   "source": [
    "from sklearn.cross_validation import train_test_split"
   ]
  },
  {
   "cell_type": "markdown",
   "metadata": {},
   "source": [
    "# Topic Modeling\n",
    "\n",
    "(Great example from [Edwin Chen](http://blog.echen.me/2011/08/22/introduction-to-latent-dirichlet-allocation/))\n",
    "\n",
    "Suppose you have the following set of sentences:\n",
    "\n",
    "* I like to eat broccoli and bananas.\n",
    "* I ate a banana and spinach smoothie for breakfast.\n",
    "* Chinchillas and kittens are cute.\n",
    "* My sister adopted a kitten yesterday.\n",
    "* Look at this cute hamster munching on a piece of broccoli.\n",
    "\n",
    "What is latent Dirichlet allocation? It’s a way of automatically discovering topics that these sentences contain.  For example, given these sentences and asked for 2 topics, LDA might produce something like\n",
    "\n",
    "* Sentences 1 and 2: 100% Topic A\n",
    "* Sentences 3 and 4: 100% Topic B\n",
    "* Sentence 5: 60% Topic A, 40% Topic B\n",
    "* Topic A: 30% broccoli, 15% bananas, 10% breakfast, 10% munching, … (at which point, you could interpret topic A to be about food)\n",
    "* Topic B: 20% chinchillas, 20% kittens, 20% cute, 15% hamster, … (at which point, you could interpret topic B to be about cute animals)"
   ]
  },
  {
   "cell_type": "markdown",
   "metadata": {},
   "source": [
    "# Why do we want this?\n",
    "\n",
    "Topic models:\n",
    "\n",
    "* Help us visualize and interpret what is going on in the data. (Single words, or even n-grams, can be ambiguous.)\n",
    "* Reduce dimensionality, making the problem easier for machine learning predictors.\n",
    "* Reduce overfitting and make it easier to extend to new data."
   ]
  },
  {
   "cell_type": "code",
   "execution_count": 5,
   "metadata": {
    "collapsed": false
   },
   "outputs": [],
   "source": [
    "dataset = fetch_20newsgroups(shuffle=True, random_state=1,\n",
    "                             categories=('rec.sport.hockey', 'soc.religion.christian',\n",
    "                                         'rec.motorcycles', 'rec.sport.baseball', 'sci.crypt'),\n",
    "                             remove=('headers', 'footers', 'quotes'))"
   ]
  },
  {
   "cell_type": "code",
   "execution_count": 6,
   "metadata": {
    "collapsed": false
   },
   "outputs": [],
   "source": [
    "docs, y = dataset['data'], dataset['target']"
   ]
  },
  {
   "cell_type": "code",
   "execution_count": 7,
   "metadata": {
    "collapsed": false
   },
   "outputs": [],
   "source": [
    "docs_train, docs_val, y_train, y_val = train_test_split(docs, y, test_size=0.25, random_state=0)"
   ]
  },
  {
   "cell_type": "code",
   "execution_count": 8,
   "metadata": {
    "collapsed": false
   },
   "outputs": [
    {
     "data": {
      "text/plain": [
       "['rec.motorcycles',\n",
       " 'rec.sport.baseball',\n",
       " 'rec.sport.hockey',\n",
       " 'sci.crypt',\n",
       " 'soc.religion.christian']"
      ]
     },
     "execution_count": 8,
     "metadata": {},
     "output_type": "execute_result"
    }
   ],
   "source": [
    "dataset.target_names"
   ]
  },
  {
   "cell_type": "code",
   "execution_count": 9,
   "metadata": {
    "collapsed": true
   },
   "outputs": [],
   "source": [
    "from sklearn.feature_extraction.text import CountVectorizer"
   ]
  },
  {
   "cell_type": "code",
   "execution_count": 10,
   "metadata": {
    "collapsed": true
   },
   "outputs": [],
   "source": [
    "from sklearn.linear_model import LogisticRegression"
   ]
  },
  {
   "cell_type": "code",
   "execution_count": 11,
   "metadata": {
    "collapsed": true
   },
   "outputs": [],
   "source": [
    "vect = CountVectorizer()"
   ]
  },
  {
   "cell_type": "code",
   "execution_count": 12,
   "metadata": {
    "collapsed": false
   },
   "outputs": [],
   "source": [
    "X_train = vect.fit_transform(docs_train)"
   ]
  },
  {
   "cell_type": "code",
   "execution_count": 13,
   "metadata": {
    "collapsed": false
   },
   "outputs": [
    {
     "data": {
      "text/plain": [
       "(2241, 27891)"
      ]
     },
     "execution_count": 13,
     "metadata": {},
     "output_type": "execute_result"
    }
   ],
   "source": [
    "X_train.shape"
   ]
  },
  {
   "cell_type": "markdown",
   "metadata": {},
   "source": [
    "That's a lot of words. Let's add a document-frequency threshold."
   ]
  },
  {
   "cell_type": "code",
   "execution_count": 14,
   "metadata": {
    "collapsed": false
   },
   "outputs": [
    {
     "data": {
      "text/plain": [
       "CountVectorizer(analyzer='word', binary=False, decode_error='strict',\n",
       "        dtype=<class 'numpy.int64'>, encoding='utf-8', input='content',\n",
       "        lowercase=True, max_df=1.0, max_features=None, min_df=5,\n",
       "        ngram_range=(1, 1), preprocessor=None, stop_words=None,\n",
       "        strip_accents=None, token_pattern='(?u)\\\\b\\\\w\\\\w+\\\\b',\n",
       "        tokenizer=None, vocabulary=None)"
      ]
     },
     "execution_count": 14,
     "metadata": {},
     "output_type": "execute_result"
    }
   ],
   "source": [
    "vect.set_params(min_df=5)"
   ]
  },
  {
   "cell_type": "code",
   "execution_count": 15,
   "metadata": {
    "collapsed": true
   },
   "outputs": [],
   "source": [
    "X_train = vect.fit_transform(docs_train)"
   ]
  },
  {
   "cell_type": "code",
   "execution_count": 16,
   "metadata": {
    "collapsed": false
   },
   "outputs": [
    {
     "data": {
      "text/plain": [
       "(2241, 5955)"
      ]
     },
     "execution_count": 16,
     "metadata": {},
     "output_type": "execute_result"
    }
   ],
   "source": [
    "X_train.shape"
   ]
  },
  {
   "cell_type": "markdown",
   "metadata": {},
   "source": [
    "That's better.  Still, it's a bit unsatisfying that we just chose an arbitrary number. We'll get back to that later."
   ]
  },
  {
   "cell_type": "code",
   "execution_count": 17,
   "metadata": {
    "collapsed": true
   },
   "outputs": [],
   "source": [
    "from sklearn.decomposition import LatentDirichletAllocation"
   ]
  },
  {
   "cell_type": "code",
   "execution_count": 18,
   "metadata": {
    "collapsed": false
   },
   "outputs": [],
   "source": [
    "topic_model = LatentDirichletAllocation(n_topics=15, max_iter=20, random_state=0)"
   ]
  },
  {
   "cell_type": "code",
   "execution_count": 19,
   "metadata": {
    "collapsed": false
   },
   "outputs": [
    {
     "name": "stdout",
     "output_type": "stream",
     "text": [
      "CPU times: user 30.6 s, sys: 42.8 s, total: 1min 13s\n",
      "Wall time: 26.3 s\n"
     ]
    },
    {
     "data": {
      "text/plain": [
       "LatentDirichletAllocation(batch_size=128, doc_topic_prior=None,\n",
       "             evaluate_every=-1, learning_decay=0.7,\n",
       "             learning_method='online', learning_offset=10.0,\n",
       "             max_doc_update_iter=100, max_iter=20, mean_change_tol=0.001,\n",
       "             n_jobs=1, n_topics=15, perp_tol=0.1, random_state=0,\n",
       "             topic_word_prior=None, total_samples=1000000.0, verbose=0)"
      ]
     },
     "execution_count": 19,
     "metadata": {},
     "output_type": "execute_result"
    }
   ],
   "source": [
    "%time topic_model.fit(X_train)"
   ]
  },
  {
   "cell_type": "code",
   "execution_count": 20,
   "metadata": {
    "collapsed": true
   },
   "outputs": [],
   "source": [
    "def topic_names(model, feature_names, n_top_words=3):\n",
    "    return [\n",
    "        \" \".join([feature_names[i]\n",
    "                  for i in topic.argsort()[:-n_top_words - 1:-1]\n",
    "                 ])\n",
    "        for topic in model.components_]"
   ]
  },
  {
   "cell_type": "code",
   "execution_count": 21,
   "metadata": {
    "collapsed": false
   },
   "outputs": [
    {
     "data": {
      "text/plain": [
       "['sox morris red',\n",
       " 'go let phillies',\n",
       " 'lankford gilkey jordan',\n",
       " 'flyers puck at',\n",
       " '10 25 11',\n",
       " 'and the of',\n",
       " 'the he in',\n",
       " 'hidden phrases total',\n",
       " 'the to and',\n",
       " 'com that is',\n",
       " 'perry cylinder pitt',\n",
       " 'the to and',\n",
       " 'bo virginia tm',\n",
       " 'hockey vs new',\n",
       " 'the of to']"
      ]
     },
     "execution_count": 21,
     "metadata": {},
     "output_type": "execute_result"
    }
   ],
   "source": [
    "topic_names(topic_model, vect.get_feature_names(), n_top_words=3)"
   ]
  },
  {
   "cell_type": "markdown",
   "metadata": {},
   "source": [
    "# What went well?\n",
    "\n",
    "* We got a \"hockey\" topic!\n",
    "\n",
    "... but the rest is garbage :(\n",
    "\n",
    "\n",
    "# What went wrong?\n",
    "\n",
    "* lots of uninformative words\n",
    "* did we train enough?\n",
    "* lots of numbers?"
   ]
  },
  {
   "cell_type": "code",
   "execution_count": 22,
   "metadata": {
    "collapsed": true
   },
   "outputs": [],
   "source": [
    "X_train_topics = topic_model.transform(X_train) "
   ]
  },
  {
   "cell_type": "code",
   "execution_count": 23,
   "metadata": {
    "collapsed": false
   },
   "outputs": [],
   "source": [
    "lr = LogisticRegression(multi_class='multinomial', solver='lbfgs').fit(X_train_topics, y_train)\n",
    "X_val = vect.transform(docs_val)\n",
    "X_val_topics = topic_model.transform(X_val)\n",
    "y_pred = lr.predict(X_val_topics)"
   ]
  },
  {
   "cell_type": "code",
   "execution_count": 24,
   "metadata": {
    "collapsed": false
   },
   "outputs": [
    {
     "name": "stdout",
     "output_type": "stream",
     "text": [
      "Accuracy: 0.6979\n",
      "F1 score: 0.6976\n"
     ]
    }
   ],
   "source": [
    "print(\"Accuracy: {:.4f}\".format(accuracy_score(y_pred, y_val)))\n",
    "print(\"F1 score: {:.4f}\".format(f1_score(y_pred, y_val, average='macro')))"
   ]
  },
  {
   "cell_type": "markdown",
   "metadata": {},
   "source": [
    "# Fix 1. Dealing with numeric tokens\n",
    "\n",
    "## (Or other custom tokenization needs)\n"
   ]
  },
  {
   "cell_type": "code",
   "execution_count": 25,
   "metadata": {
    "collapsed": false
   },
   "outputs": [
    {
     "data": {
      "text/plain": [
       "['got', '99', 'problems', '__']"
      ]
     },
     "execution_count": 25,
     "metadata": {},
     "output_type": "execute_result"
    }
   ],
   "source": [
    "default_tokenizer = vect.build_tokenizer()\n",
    "default_tokenizer(\"I got 99 problems __\")"
   ]
  },
  {
   "cell_type": "markdown",
   "metadata": {},
   "source": [
    "## Aside: *Wait, what*? *Why*?"
   ]
  },
  {
   "cell_type": "code",
   "execution_count": 26,
   "metadata": {
    "collapsed": false
   },
   "outputs": [
    {
     "name": "stdout",
     "output_type": "stream",
     "text": [
      "(?u)\\b\\w\\w+\\b\n"
     ]
    }
   ],
   "source": [
    "print(vect.token_pattern)"
   ]
  },
  {
   "cell_type": "markdown",
   "metadata": {},
   "source": [
    "For some applications (that you *miiiight* tackle really soon), some one-letter words are important!\n",
    "\n",
    "* \"I\" vs \"we\"\n",
    "* \"a\" (and \"an\") vs \"the\"\n",
    "\n",
    "But do you think these would be useful in comparing baseball to hockey?"
   ]
  },
  {
   "cell_type": "markdown",
   "metadata": {},
   "source": [
    "## Customizing the tokenizer"
   ]
  },
  {
   "cell_type": "code",
   "execution_count": 27,
   "metadata": {
    "collapsed": true
   },
   "outputs": [],
   "source": [
    "import re\n",
    "\n",
    "default_tokenizer = re.compile(r\"(?u)\\b\\w\\w+\\b\")\n",
    "\n",
    "def number_aware_tokenizer(doc):\n",
    "    # Start off with the default tokenizer\n",
    "    toks = default_tokenizer.findall(doc)\n",
    "    # replace tokens that start with numbers with a custom marker\n",
    "    toks = [\n",
    "        \"#NBR\" if t[0].isdigit() else t  # substitute numeric-starting tokens\n",
    "        for t in toks\n",
    "        if t.isalnum()  # drop non-alphanumeric tokens\n",
    "    ]\n",
    "    return toks"
   ]
  },
  {
   "cell_type": "code",
   "execution_count": 28,
   "metadata": {
    "collapsed": false
   },
   "outputs": [
    {
     "data": {
      "text/plain": [
       "['got', '#NBR', 'problems']"
      ]
     },
     "execution_count": 28,
     "metadata": {},
     "output_type": "execute_result"
    }
   ],
   "source": [
    "number_aware_tokenizer(\"I got 99 problems __\")"
   ]
  },
  {
   "cell_type": "markdown",
   "metadata": {},
   "source": [
    "## Muuuch better!"
   ]
  },
  {
   "cell_type": "markdown",
   "metadata": {},
   "source": [
    "# Fix 2. Choosing frequency thresholds\n",
    "(Let's look at what our documents are made of)"
   ]
  },
  {
   "cell_type": "code",
   "execution_count": 29,
   "metadata": {
    "collapsed": false
   },
   "outputs": [
    {
     "name": "stdout",
     "output_type": "stream",
     "text": [
      "What are the most common words?\n",
      "the 0.0607413120749\n",
      "to 0.0295197976278\n",
      "of 0.0256390202858\n",
      "and 0.0230122814872\n",
      "in 0.0172976413288\n",
      "is 0.0171870701884\n",
      "that 0.0162027173532\n",
      "it 0.0123435148678\n",
      "for 0.0101563637737\n",
      "be 0.00863533637898\n",
      "\n",
      "Least common:\n",
      "16th 1.34842854138e-05\n",
      "1919 1.34842854138e-05\n",
      "272 1.34842854138e-05\n",
      "2758 1.34842854138e-05\n",
      "313 1.34842854138e-05\n",
      "340 1.34842854138e-05\n",
      "3511 1.34842854138e-05\n",
      "374 1.34842854138e-05\n",
      "403 1.34842854138e-05\n"
     ]
    }
   ],
   "source": [
    "print(\"What are the most common words?\")\n",
    "\n",
    "word_counts = X_train.sum(axis=0)\n",
    "word_counts = word_counts.A.ravel().astype(np.double)  # because X_train is a matrix, not an array\n",
    "word_counts /= word_counts.sum()\n",
    "\n",
    "# pair up words with their counts\n",
    "paired = zip(word_counts, vect.get_feature_names())\n",
    "\n",
    "# sort them in decreasing order\n",
    "paired = sorted(paired, reverse=True)\n",
    "for freq, word in paired[:10]:\n",
    "    print(word, freq)\n",
    "\n",
    "print()\n",
    "print(\"Least common:\")\n",
    "\n",
    "for freq, word in paired[:-10:-1]:\n",
    "    print(word, freq)"
   ]
  },
  {
   "cell_type": "markdown",
   "metadata": {
    "collapsed": true
   },
   "source": [
    " * We have a lot of very frequent words (stopwords)\n",
    "\n",
    " * We have a lot of numbers (or number-like: *16th*) low-frequency tokens."
   ]
  },
  {
   "cell_type": "markdown",
   "metadata": {},
   "source": [
    "# Fix for frequent words:\n",
    "\n",
    "We have already seen the `min_df` heuristic to avoid very rare words.\n",
    "There is a similar `max_df` heuristic to avoid very common words. But what should we set it to?"
   ]
  },
  {
   "cell_type": "code",
   "execution_count": 30,
   "metadata": {
    "collapsed": true
   },
   "outputs": [],
   "source": [
    "# df = number of documents each word appears in.\n",
    "\n",
    "df = (X_train > 0).sum(axis=0)\n",
    "df = df.A.ravel().astype(np.double)\n",
    "\n",
    "df /= X_train.shape[0]"
   ]
  },
  {
   "cell_type": "code",
   "execution_count": 31,
   "metadata": {
    "collapsed": false
   },
   "outputs": [
    {
     "name": "stdout",
     "output_type": "stream",
     "text": [
      "Words with highest df\n",
      "the 0.858099062918\n",
      "to 0.744756804998\n",
      "and 0.69567157519\n",
      "of 0.688978134761\n",
      "in 0.651494868362\n",
      "that 0.621597501116\n",
      "is 0.611780455154\n",
      "it 0.585899152164\n",
      "for 0.558232931727\n",
      "this 0.493975903614\n",
      "on 0.476126729139\n",
      "be 0.473895582329\n",
      "have 0.456046407854\n",
      "you 0.439535921464\n",
      "but 0.43641231593\n",
      "not 0.428380187416\n",
      "with 0.424810352521\n",
      "if 0.411869701026\n",
      "are 0.401606425703\n",
      "as 0.383757251227\n",
      "or 0.367246764837\n",
      "they 0.360107095047\n",
      "was 0.357875948237\n",
      "at 0.346273984828\n",
      "can 0.336010709505\n",
      "one 0.319053993753\n",
      "from 0.311914323963\n",
      "would 0.302543507363\n",
      "all 0.298081213744\n",
      "by 0.296296296296\n",
      "about 0.289602855868\n",
      "there 0.285140562249\n",
      "what 0.282016956716\n",
      "so 0.281570727354\n",
      "an 0.281570727354\n",
      "has 0.273092369478\n",
      "will 0.27130745203\n",
      "he 0.270861222668\n",
      "do 0.270861222668\n",
      "my 0.267291387773\n",
      "who 0.260597947345\n",
      "just 0.25479696564\n",
      "no 0.248995983936\n",
      "me 0.245426149041\n",
      "out 0.244979919679\n",
      "like 0.244533690317\n",
      "any 0.241856314145\n",
      "we 0.237394020527\n",
      "some 0.236501561803\n",
      "don 0.23114680946\n",
      "more 0.222222222222\n",
      "only 0.213743864346\n",
      "think 0.211958946899\n",
      "other 0.20749665328\n",
      "your 0.206604194556\n",
      "his 0.206604194556\n",
      "know 0.205711735832\n",
      "than 0.203034359661\n",
      "when 0.202588130299\n",
      "up 0.201249442213\n",
      "their 0.199464524766\n",
      "how 0.196340919232\n",
      "which 0.192324854975\n",
      "had 0.189201249442\n",
      "time 0.187416331995\n",
      "been 0.186077643909\n",
      "people 0.184292726461\n",
      "then 0.1838464971\n",
      "get 0.180276662204\n",
      "good 0.179830432842\n",
      "them 0.176706827309\n",
      "were 0.174029451138\n",
      "well 0.166889781348\n",
      "even 0.165997322624\n",
      "also 0.1651048639\n",
      "could 0.157518964748\n",
      "first 0.155287817938\n",
      "should 0.154395359215\n",
      "does 0.154395359215\n",
      "because 0.152164212405\n",
      "very 0.149933065596\n",
      "see 0.147255689424\n",
      "say 0.144578313253\n",
      "now 0.143685854529\n",
      "much 0.143239625167\n",
      "two 0.142347166444\n",
      "may 0.137438643463\n",
      "way 0.136099955377\n",
      "here 0.136099955377\n",
      "make 0.134761267291\n",
      "him 0.132530120482\n",
      "being 0.13208389112\n",
      "into 0.130298973672\n",
      "last 0.127621597501\n",
      "most 0.125390450692\n",
      "did 0.125390450692\n",
      "go 0.124051762606\n",
      "over 0.123605533244\n",
      "new 0.123159303882\n",
      "am 0.123159303882\n",
      "many 0.121820615797\n",
      "these 0.120928157073\n",
      "really 0.119589468987\n",
      "after 0.118697010263\n",
      "why 0.118250780901\n",
      "those 0.118250780901\n",
      "too 0.116019634092\n",
      "right 0.116019634092\n",
      "year 0.111557340473\n",
      "such 0.110664881749\n",
      "back 0.110664881749\n",
      "us 0.109326193664\n",
      "years 0.107541276216\n",
      "god 0.107095046854\n",
      "use 0.105310129407\n",
      "before 0.104417670683\n",
      "re 0.103971441321\n",
      "going 0.103971441321\n",
      "take 0.103525211959\n",
      "something 0.102632753235\n",
      "still 0.102186523873\n",
      "anyone 0.101740294511\n",
      "team 0.101294065149\n",
      "our 0.100401606426\n",
      "game 0.100401606426\n",
      "point 0.0999553770638\n",
      "believe 0.0995091477019\n",
      "ve 0.09906291834\n",
      "since 0.0986166889781\n",
      "want 0.0981704596162\n",
      "same 0.0977242302544\n",
      "off 0.0968317715306\n",
      "better 0.0968317715306\n",
      "might 0.0941543953592\n",
      "while 0.0937081659973\n",
      "ll 0.0937081659973\n",
      "where 0.0932619366354\n",
      "sure 0.0919232485498\n",
      "doesn 0.0919232485498\n",
      "used 0.0914770191879\n",
      "things 0.0896921017403\n",
      "need 0.0896921017403\n",
      "never 0.0883534136546\n",
      "made 0.0883534136546\n",
      "must 0.0879071842927\n",
      "another 0.0879071842927\n",
      "probably 0.0874609549308\n",
      "let 0.0870147255689\n",
      "through 0.0865684962071\n",
      "without 0.0861222668452\n",
      "both 0.0861222668452\n",
      "down 0.0852298081214\n",
      "got 0.0843373493976\n",
      "said 0.0838911200357\n",
      "come 0.0838911200357\n",
      "own 0.0816599732262\n",
      "find 0.0812137438643\n",
      "though 0.0807675145025\n",
      "key 0.0798750557787\n",
      "didn 0.0794288264168\n",
      "its 0.078536367693\n",
      "few 0.078536367693\n",
      "every 0.078536367693\n",
      "best 0.078536367693\n",
      "thing 0.0776439089692\n",
      "great 0.0776439089692\n",
      "question 0.0771976796073\n",
      "far 0.0771976796073\n",
      "read 0.0767514502454\n",
      "long 0.0767514502454\n",
      "least 0.0767514502454\n",
      "please 0.0763052208835\n",
      "course 0.0754127621598\n",
      "around 0.0754127621598\n",
      "second 0.0740740740741\n",
      "little 0.0736278447122\n",
      "enough 0.0731816153503\n",
      "lot 0.0722891566265\n",
      "edu 0.0722891566265\n",
      "between 0.0722891566265\n",
      "play 0.0709504685408\n",
      "fact 0.0709504685408\n",
      "someone 0.0705042391789\n",
      "again 0.0705042391789\n",
      "part 0.070058009817\n",
      "games 0.0696117804552\n",
      "anything 0.0696117804552\n",
      "look 0.0687193217314\n",
      "however 0.0687193217314\n",
      "work 0.0682730923695\n",
      "end 0.0682730923695\n",
      "against 0.0682730923695\n",
      "system 0.0678268630076\n",
      "etc 0.0678268630076\n",
      "give 0.0673806336457\n",
      "reason 0.0669344042838\n",
      "keep 0.0664881749219\n",
      "either 0.06604194556\n",
      "yet 0.0655957161981\n",
      "maybe 0.0655957161981\n",
      "always 0.0655957161981\n",
      "seems 0.0651494868362\n",
      "actually 0.0651494868362\n",
      "true 0.0647032574743\n",
      "rather 0.0647032574743\n",
      "bit 0.0647032574743\n",
      "10 0.0642570281124\n",
      "world 0.0638107987506\n",
      "under 0.0638107987506\n",
      "day 0.0638107987506\n",
      "case 0.0633645693887\n",
      "each 0.0629183400268\n",
      "thought 0.062025881303\n",
      "season 0.0615796519411\n",
      "put 0.0611334225792\n",
      "thanks 0.0597947344935\n",
      "bad 0.0597947344935\n",
      "next 0.0593485051316\n",
      "quite 0.058009817046\n",
      "idea 0.058009817046\n",
      "bike 0.058009817046\n",
      "wrong 0.0575635876841\n",
      "problem 0.0575635876841\n",
      "players 0.0575635876841\n",
      "mean 0.0575635876841\n",
      "won 0.0571173583222\n",
      "remember 0.0571173583222\n",
      "post 0.0571173583222\n",
      "tell 0.0566711289603\n",
      "mail 0.0562248995984\n",
      "nothing 0.0557786702365\n",
      "isn 0.0557786702365\n",
      "government 0.0557786702365\n",
      "ever 0.0557786702365\n",
      "public 0.0553324408746\n",
      "old 0.0553324408746\n",
      "name 0.0548862115127\n",
      "done 0.0548862115127\n",
      "pretty 0.0544399821508\n",
      "others 0.0544399821508\n",
      "number 0.0539937527889\n",
      "life 0.0539937527889\n",
      "until 0.053547523427\n",
      "real 0.053547523427\n",
      "encryption 0.053547523427\n",
      "possible 0.0531012940651\n",
      "place 0.0526550647033\n",
      "person 0.0526550647033\n",
      "perhaps 0.0526550647033\n",
      "jesus 0.0526550647033\n",
      "away 0.0526550647033\n",
      "yes 0.0522088353414\n",
      "hockey 0.0522088353414\n",
      "league 0.0517626059795\n",
      "example 0.0517626059795\n",
      "clipper 0.0517626059795\n",
      "three 0.0513163766176\n",
      "less 0.0513163766176\n",
      "com 0.0513163766176\n",
      "called 0.0513163766176\n",
      "call 0.0513163766176\n",
      "man 0.0508701472557\n",
      "means 0.0504239178938\n",
      "20 0.0499776885319\n",
      "trying 0.04953145917\n",
      "start 0.04953145917\n",
      "order 0.04953145917\n",
      "high 0.04953145917\n",
      "win 0.0490852298081\n",
      "using 0.0490852298081\n",
      "once 0.0490852298081\n",
      "doing 0.0490852298081\n",
      "different 0.0490852298081\n",
      "says 0.0486390004462\n",
      "non 0.0486390004462\n",
      "law 0.0486390004462\n",
      "chip 0.0486390004462\n",
      "big 0.0486390004462\n",
      "15 0.0486390004462\n",
      "hand 0.0481927710843\n",
      "heard 0.0477465417224\n",
      "try 0.0473003123606\n",
      "seen 0.0473003123606\n",
      "makes 0.0473003123606\n",
      "home 0.0473003123606\n",
      "information 0.0468540829987\n",
      "hard 0.0468540829987\n",
      "given 0.0468540829987\n",
      "else 0.0468540829987\n",
      "12 0.0468540829987\n",
      "whether 0.0464078536368\n",
      "teams 0.0464078536368\n",
      "run 0.0464078536368\n",
      "help 0.0464078536368\n",
      "found 0.0464078536368\n",
      "christian 0.0464078536368\n",
      "able 0.0464078536368\n",
      "john 0.0459616242749\n",
      "having 0.0459616242749\n",
      "already 0.0459616242749\n"
     ]
    }
   ],
   "source": [
    "print(\"Words with highest df\")\n",
    "\n",
    "# pair up words with their DF\n",
    "paired = zip(df, vect.get_feature_names())\n",
    "\n",
    "# sort them in decreasing order\n",
    "paired = sorted(paired, reverse=True)\n",
    "for freq, word in paired[:300]:\n",
    "    print(word, freq)\n"
   ]
  },
  {
   "cell_type": "code",
   "execution_count": 32,
   "metadata": {
    "collapsed": false
   },
   "outputs": [
    {
     "data": {
      "image/png": "[encoded data removed]",
      "text/plain": [
       "<matplotlib.figure.Figure at 0x7f2f88eb5e80>"
      ]
     },
     "metadata": {},
     "output_type": "display_data"
    }
   ],
   "source": [
    "plt.hist(df, log=True, bins=30)\n",
    "plt.show()"
   ]
  },
  {
   "cell_type": "markdown",
   "metadata": {},
   "source": [
    "No real rule, but you can use your intuition:\n",
    "\n",
    "* After what threshold do you start seeing *useful* words?\n",
    "* Does the histogram have an \"elbow\"?\n",
    "\n",
    "0.11 looks like a good threshold on our data. *(Would you have guessed this is the range to search in?)*"
   ]
  },
  {
   "cell_type": "code",
   "execution_count": 33,
   "metadata": {
    "collapsed": false
   },
   "outputs": [],
   "source": [
    "vect = CountVectorizer(min_df=5,\n",
    "                       max_df=0.11,\n",
    "                       tokenizer=number_aware_tokenizer)\n",
    "\n",
    "X_train = vect.fit_transform(docs_train)"
   ]
  },
  {
   "cell_type": "code",
   "execution_count": 34,
   "metadata": {
    "collapsed": true
   },
   "outputs": [],
   "source": [
    "X_train_topics = topic_model.fit_transform(X_train)"
   ]
  },
  {
   "cell_type": "code",
   "execution_count": 35,
   "metadata": {
    "collapsed": false
   },
   "outputs": [
    {
     "data": {
      "text/plain": [
       "['dave jewish hall pitcher smith',\n",
       " 'edu mail com list dod',\n",
       " 'her she marriage mary bear',\n",
       " 'maine prince passion saint cub',\n",
       " 'homosexuality drivers thanks homosexual change',\n",
       " 'church catholic pope canon schism',\n",
       " 'game games better runs won',\n",
       " 'key encryption chip security privacy',\n",
       " 'players team player fan baseball',\n",
       " 'bike off got down ve',\n",
       " 'team hockey play game season',\n",
       " 'jesus dead resurrection tomb body',\n",
       " 'god our jesus believe us',\n",
       " 'law government use question must',\n",
       " 'gm john moncton murray springfield']"
      ]
     },
     "execution_count": 35,
     "metadata": {},
     "output_type": "execute_result"
    }
   ],
   "source": [
    "topic_names(topic_model, vect.get_feature_names(), n_top_words=5)"
   ]
  },
  {
   "cell_type": "code",
   "execution_count": 36,
   "metadata": {
    "collapsed": false
   },
   "outputs": [],
   "source": [
    "lr = LogisticRegression(multi_class='multinomial', solver='lbfgs').fit(X_train_topics, y_train)\n",
    "X_val = vect.transform(docs_val)\n",
    "X_val_topics = topic_model.transform(X_val)\n",
    "y_pred = lr.predict(X_val_topics)"
   ]
  },
  {
   "cell_type": "code",
   "execution_count": 37,
   "metadata": {
    "collapsed": false
   },
   "outputs": [
    {
     "name": "stdout",
     "output_type": "stream",
     "text": [
      "Accuracy:  0.81550802139\n",
      "F1 score:  0.820034196276\n"
     ]
    }
   ],
   "source": [
    "print(\"Accuracy: \", accuracy_score(y_pred, y_val))\n",
    "print(\"F1 score: \", f1_score(y_pred, y_val, average='macro'))"
   ]
  },
  {
   "cell_type": "markdown",
   "metadata": {},
   "source": [
    "# Interpreting the model"
   ]
  },
  {
   "cell_type": "code",
   "execution_count": 38,
   "metadata": {
    "collapsed": true
   },
   "outputs": [],
   "source": [
    "topic_labels = topic_names(topic_model, vect.get_feature_names(), n_top_words=5)"
   ]
  },
  {
   "cell_type": "code",
   "execution_count": 39,
   "metadata": {
    "collapsed": false
   },
   "outputs": [
    {
     "data": {
      "image/png": "[encoded data removed]",
      "text/plain": [
       "<matplotlib.figure.Figure at 0x7f2f88fe4048>"
      ]
     },
     "metadata": {},
     "output_type": "display_data"
    }
   ],
   "source": [
    "coef = lr.coef_\n",
    "n_targets, n_topics = coef.shape\n",
    "plt.figure(figsize=(16, 8))\n",
    "for k in range(coef.shape[0]):\n",
    "    plt.subplot(1, n_targets + 1, k + 1)\n",
    "    plt.title(dataset.target_names[k])\n",
    "    plt.barh(np.arange(1, n_topics + 1), coef[k], align='center')\n",
    "    if k == 0:\n",
    "        plt.yticks(np.arange(1, n_topics + 1),\n",
    "                   topic_labels)\n",
    "    else:\n",
    "        plt.yticks(())\n",
    "    plt.axis(\"tight\")"
   ]
  },
  {
   "cell_type": "markdown",
   "metadata": {},
   "source": [
    " Is this the best we can do?"
   ]
  },
  {
   "cell_type": "code",
   "execution_count": null,
   "metadata": {
    "collapsed": true
   },
   "outputs": [],
   "source": []
  }
 ],
 "metadata": {
  "kernelspec": {
   "display_name": "Python 3",
   "language": "python",
   "name": "python3"
  },
  "language_info": {
   "codemirror_mode": {
    "name": "ipython",
    "version": 3
   },
   "file_extension": ".py",
   "mimetype": "text/x-python",
   "name": "python",
   "nbconvert_exporter": "python",
   "pygments_lexer": "ipython3",
   "version": "3.5.1"
  }
 },
 "nbformat": 4,
 "nbformat_minor": 0
}
